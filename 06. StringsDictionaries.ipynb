{
  "cells": [
    {
      "attachments": {},
      "cell_type": "markdown",
      "metadata": {},
      "source": [
        "# Strings y Diccionarios\n",
        "\n",
        "En este JNB se revisará el tema de Strings y Diccionarios."
      ]
    },
    {
      "cell_type": "code",
      "execution_count": 2,
      "metadata": {
        "id": "O8NoTzxjs2wK",
        "outputId": "fa4bc249-a4fa-48a6-9dc6-7733646ed223"
      },
      "outputs": [],
      "source": [
        "numbers = {'one':1, 'two':2, 'three':3}"
      ]
    },
    {
      "cell_type": "code",
      "execution_count": 3,
      "metadata": {},
      "outputs": [
        {
          "data": {
            "text/plain": [
              "1"
            ]
          },
          "execution_count": 3,
          "metadata": {},
          "output_type": "execute_result"
        }
      ],
      "source": [
        "numbers['one']"
      ]
    },
    {
      "cell_type": "code",
      "execution_count": 4,
      "metadata": {},
      "outputs": [
        {
          "data": {
            "text/plain": [
              "{'one': 1, 'two': 2, 'three': 3, 'eleven': 11}"
            ]
          },
          "execution_count": 4,
          "metadata": {},
          "output_type": "execute_result"
        }
      ],
      "source": [
        "numbers['eleven'] = 11\n",
        "numbers"
      ]
    },
    {
      "cell_type": "code",
      "execution_count": 5,
      "metadata": {},
      "outputs": [
        {
          "data": {
            "text/plain": [
              "{'one': 'Pluto', 'two': 2, 'three': 3, 'eleven': 11}"
            ]
          },
          "execution_count": 5,
          "metadata": {},
          "output_type": "execute_result"
        }
      ],
      "source": [
        "numbers['one'] = 'Pluto'\n",
        "numbers"
      ]
    },
    {
      "cell_type": "code",
      "execution_count": 6,
      "metadata": {},
      "outputs": [
        {
          "data": {
            "text/plain": [
              "{'Mercury': 'M',\n",
              " 'Venus': 'V',\n",
              " 'Earth': 'E',\n",
              " 'Mars': 'M',\n",
              " 'Jupiter': 'J',\n",
              " 'Saturn': 'S',\n",
              " 'Uranus': 'U',\n",
              " 'Neptune': 'N'}"
            ]
          },
          "execution_count": 6,
          "metadata": {},
          "output_type": "execute_result"
        }
      ],
      "source": [
        "planets = ['Mercury', 'Venus', 'Earth', 'Mars', 'Jupiter', 'Saturn', 'Uranus', 'Neptune']\n",
        "planet_to_initial = {planet: planet[0] for planet in planets}\n",
        "planet_to_initial"
      ]
    },
    {
      "cell_type": "code",
      "execution_count": 7,
      "metadata": {},
      "outputs": [
        {
          "data": {
            "text/plain": [
              "{'Mercury': 'M',\n",
              " 'Venus': 'V',\n",
              " 'Earth': 'E',\n",
              " 'Mars': 'M',\n",
              " 'Jupiter': 'J',\n",
              " 'Saturn': 'S',\n",
              " 'Uranus': 'U',\n",
              " 'Neptune': 'N'}"
            ]
          },
          "execution_count": 7,
          "metadata": {},
          "output_type": "execute_result"
        }
      ],
      "source": [
        "d = {}\n",
        "for planet in planets:\n",
        "    d[planet] = planet[0]\n",
        "d\n"
      ]
    },
    {
      "cell_type": "code",
      "execution_count": 8,
      "metadata": {},
      "outputs": [
        {
          "data": {
            "text/plain": [
              "True"
            ]
          },
          "execution_count": 8,
          "metadata": {},
          "output_type": "execute_result"
        }
      ],
      "source": [
        "'Saturn' in planet_to_initial"
      ]
    },
    {
      "cell_type": "code",
      "execution_count": 9,
      "metadata": {},
      "outputs": [
        {
          "data": {
            "text/plain": [
              "False"
            ]
          },
          "execution_count": 9,
          "metadata": {},
          "output_type": "execute_result"
        }
      ],
      "source": [
        "'Betelgeuse' in planet_to_initial"
      ]
    },
    {
      "cell_type": "code",
      "execution_count": 10,
      "metadata": {},
      "outputs": [
        {
          "name": "stdout",
          "output_type": "stream",
          "text": [
            "one = Pluto\n",
            "two = 2\n",
            "three = 3\n",
            "eleven = 11\n"
          ]
        }
      ],
      "source": [
        "for k in numbers:\n",
        "    print(\"{} = {}\".format(k, numbers[k]))"
      ]
    },
    {
      "cell_type": "code",
      "execution_count": null,
      "metadata": {},
      "outputs": [
        {
          "name": "stdout",
          "output_type": "stream",
          "text": [
            "one=Pluto\n",
            "two=2\n",
            "three=3\n",
            "eleven=11\n"
          ]
        }
      ],
      "source": [
        "for k in numbers:\n",
        "    print(f\"{k} = {numbers[k]}\")"
      ]
    },
    {
      "cell_type": "code",
      "execution_count": 13,
      "metadata": {},
      "outputs": [
        {
          "data": {
            "text/plain": [
              "'1*2*3'"
            ]
          },
          "execution_count": 13,
          "metadata": {},
          "output_type": "execute_result"
        }
      ],
      "source": [
        "'*'.join(['1', '2', '3'])"
      ]
    },
    {
      "cell_type": "code",
      "execution_count": 14,
      "metadata": {},
      "outputs": [
        {
          "data": {
            "text/plain": [
              "'E J M M N S U V'"
            ]
          },
          "execution_count": 14,
          "metadata": {},
          "output_type": "execute_result"
        }
      ],
      "source": [
        "# Get all the initials, sort them alphabetically, and put them in a space-separated string.\n",
        "' '.join(sorted(planet_to_initial.values()))"
      ]
    },
    {
      "cell_type": "code",
      "execution_count": 17,
      "metadata": {},
      "outputs": [
        {
          "data": {
            "text/plain": [
              "[('Mercury', 'M'),\n",
              " ('Venus', 'V'),\n",
              " ('Earth', 'E'),\n",
              " ('Mars', 'M'),\n",
              " ('Jupiter', 'J'),\n",
              " ('Saturn', 'S'),\n",
              " ('Uranus', 'U'),\n",
              " ('Neptune', 'N')]"
            ]
          },
          "execution_count": 17,
          "metadata": {},
          "output_type": "execute_result"
        }
      ],
      "source": [
        "list(planet_to_initial.items())"
      ]
    },
    {
      "cell_type": "code",
      "execution_count": 16,
      "metadata": {},
      "outputs": [
        {
          "name": "stdout",
          "output_type": "stream",
          "text": [
            "   Mercury begins with \"M\"\n",
            "     Venus begins with \"V\"\n",
            "     Earth begins with \"E\"\n",
            "      Mars begins with \"M\"\n",
            "   Jupiter begins with \"J\"\n",
            "    Saturn begins with \"S\"\n",
            "    Uranus begins with \"U\"\n",
            "   Neptune begins with \"N\"\n"
          ]
        }
      ],
      "source": [
        "for planet, initial in planet_to_initial.items():\n",
        "    print(\"{} begins with \\\"{}\\\"\".format(planet.rjust(10), initial))"
      ]
    }
  ],
  "metadata": {
    "colab": {
      "include_colab_link": true,
      "provenance": []
    },
    "kernelspec": {
      "display_name": "Python 3",
      "language": "python",
      "name": "python3"
    },
    "language_info": {
      "codemirror_mode": {
        "name": "ipython",
        "version": 3
      },
      "file_extension": ".py",
      "mimetype": "text/x-python",
      "name": "python",
      "nbconvert_exporter": "python",
      "pygments_lexer": "ipython3",
      "version": "3.12.1"
    },
    "orig_nbformat": 4
  },
  "nbformat": 4,
  "nbformat_minor": 0
}
